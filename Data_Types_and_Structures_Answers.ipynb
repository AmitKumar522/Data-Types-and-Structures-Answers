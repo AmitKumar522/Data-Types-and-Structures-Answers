{
  "nbformat": 4,
  "nbformat_minor": 0,
  "metadata": {
    "colab": {
      "provenance": []
    },
    "kernelspec": {
      "name": "python3",
      "display_name": "Python 3"
    },
    "language_info": {
      "name": "python"
    }
  },
  "cells": [
    {
      "cell_type": "markdown",
      "source": [
        "1.What are data structures, and why are they important?\n",
        "\n",
        "-Data structures are ways of organizing and storing data so that operations like retrieval, updating, and deletion can be performed efficiently. They are important because they help manage large amounts of data, optimize performance, and make programs more efficient and easier to manage."
      ],
      "metadata": {
        "id": "QdkeUNfmpung"
      }
    },
    {
      "cell_type": "markdown",
      "source": [
        "2.Explain the difference between mutable and immutable data types with examples ?\n",
        "\n",
        "-Mutable: Can be changed after creation. Example: list, dict, set\n"
      ],
      "metadata": {
        "id": "u9mJQqvXqXaA"
      }
    },
    {
      "cell_type": "code",
      "source": [
        "my_list = [1, 2, 3]\n",
        "my_list.append(4)\n"
      ],
      "metadata": {
        "id": "cE6rERQXqlRq"
      },
      "execution_count": 2,
      "outputs": []
    },
    {
      "cell_type": "markdown",
      "source": [
        "-Immutable: Cannot be changed after creation. Example: int, str, tuple"
      ],
      "metadata": {
        "id": "wJqAilJlqzZL"
      }
    },
    {
      "cell_type": "code",
      "source": [
        "my_str = \"hello\"\n",
        "my_str = my_str.upper()\n"
      ],
      "metadata": {
        "id": "x_kIzXSKq02T"
      },
      "execution_count": 3,
      "outputs": []
    },
    {
      "cell_type": "markdown",
      "source": [
        "3.What are the main differences between lists and tuples in Python?\n",
        "\n",
        "-The main differences between lists and tuples in Python are.\n",
        "\n",
        "\n",
        "1.   Lists use square brackets [], tuples use round brackets ().\n",
        "2.   Lists can be changed (mutable), tuples can’t (immutable).\n",
        "\n",
        "3.   Tuples are generally faster and used when we don’t want the data to be changed.\n",
        "\n",
        "\n"
      ],
      "metadata": {
        "id": "Ci8_U-Umr-xv"
      }
    },
    {
      "cell_type": "markdown",
      "source": [
        "4.Describe how dictionaries store data?\n",
        "\n",
        "-Dictionaries store data in key-value pairs. It’s like having a label (the key) for each piece of data (the value), so you can find stuff easily. Example:\n"
      ],
      "metadata": {
        "id": "264B7HXasZJE"
      }
    },
    {
      "cell_type": "code",
      "source": [
        "person = {\"name\": \"Alice\", \"age\": 25}\n"
      ],
      "metadata": {
        "id": "B_P9Gnhksi_k"
      },
      "execution_count": null,
      "outputs": []
    },
    {
      "cell_type": "markdown",
      "source": [
        "Here, \"name\" and \"age\" are keys, and \"Alice\" and 25 are their values."
      ],
      "metadata": {
        "id": "WWHP0JBrsk3M"
      }
    },
    {
      "cell_type": "markdown",
      "source": [
        "5.Why might you use a set instead of a list in Python?\n",
        "\n",
        "-Sets automatically remove duplicates. So if you don’t want repeated items and just want a collection of unique stuff, use a set. Also, checking if something is in a set is usually faster."
      ],
      "metadata": {
        "id": "9Ro3p-dOsoC1"
      }
    },
    {
      "cell_type": "markdown",
      "source": [
        "6.What is a string in Python, and how is it different from a list?\n",
        "\n",
        "-A string is just a series of characters (like words or sentences). A list can hold anything — numbers, words, even other lists. The big difference is: you can change a list, but you can’t change a string (strings are immutable).\n"
      ],
      "metadata": {
        "id": "LX3r_tZnszJQ"
      }
    },
    {
      "cell_type": "markdown",
      "source": [
        "7.How do tuples ensure data integrity in Python?\n",
        "\n",
        "-Since tuples can’t be changed after they’re created, the data stays safe and untouched. This helps make sure no one (not even accidentally) changes the values, which is good when you want to protect important data."
      ],
      "metadata": {
        "id": "f9envWaLs5Hg"
      }
    },
    {
      "cell_type": "markdown",
      "source": [
        "8.What is a hash table, and how does it relate to dictionaries in Python?\n",
        "\n",
        "-A hash table is a data structure that lets you find data really fast using a \"key\". Python dictionaries are built using hash tables. So when you use a dictionary, Python uses a hash table behind the scenes to find and store things quickly."
      ],
      "metadata": {
        "id": "9nEQ3wmftAj4"
      }
    },
    {
      "cell_type": "markdown",
      "source": [
        "9.Can lists contain different data types in Python?\n",
        "\n",
        "-Yes! A Python list can hold all sorts of things — numbers, strings, other lists, and even a mix of all of them together."
      ],
      "metadata": {
        "id": "YegC1C6ztJuC"
      }
    },
    {
      "cell_type": "code",
      "source": [
        "my_list = [1, \"hello\", 3.14, [5, 6]]\n"
      ],
      "metadata": {
        "id": "P13dJBwktWXu"
      },
      "execution_count": 4,
      "outputs": []
    },
    {
      "cell_type": "markdown",
      "source": [
        "10.Explain why strings are immutable in Python?\n",
        "\n",
        "-Strings are immutable for safety and performance. If lots of programs are using the same string, it’s better if no one can change it by mistake. Also, Python can optimize memory better this way."
      ],
      "metadata": {
        "id": "-cOGGlTqtZ0k"
      }
    },
    {
      "cell_type": "markdown",
      "source": [
        "11.What advantages do dictionaries offer over lists for certain tasks?\n",
        "\n",
        "-Dictionaries are great when you need to look things up quickly using a name or label (key). They’re faster for finding specific items than lists, especially if you have a lot of data."
      ],
      "metadata": {
        "id": "bnMQs9q6td4s"
      }
    },
    {
      "cell_type": "markdown",
      "source": [
        "12.Describe a scenario where using a tuple would be preferable over a list?\n",
        "\n",
        "-If you have data that shouldn’t change — like the days of the week or coordinates of a location — use a tuple. It’s safer and tells others that this data is fixed."
      ],
      "metadata": {
        "id": "Va2SKzLMtrQa"
      }
    },
    {
      "cell_type": "markdown",
      "source": [
        "13.How do sets handle duplicate values in Python?\n",
        "\n",
        "-Sets automatically remove duplicates. So if you add the same item twice, it’ll only be stored once."
      ],
      "metadata": {
        "id": "RJ-eEJgPt30C"
      }
    },
    {
      "cell_type": "code",
      "source": [
        "my_set = {1, 2, 2, 3}\n",
        "# Result: {1, 2, 3}\n"
      ],
      "metadata": {
        "id": "Rmov4q53t-lb"
      },
      "execution_count": 5,
      "outputs": []
    },
    {
      "cell_type": "markdown",
      "source": [
        "14.How does the “in” keyword work differently for lists and dictionaries?\n",
        "\n",
        "-In a list, \"in\" checks if a value exists.\n",
        "\n",
        "-In a dictionary, \"in\" checks if a key exists (not a value)."
      ],
      "metadata": {
        "id": "1SrfASV7uAAi"
      }
    },
    {
      "cell_type": "code",
      "source": [
        "# List\n",
        "3 in [1, 2, 3]  # True\n",
        "\n",
        "# Dictionary\n",
        "\"age\" in {\"name\": \"Tom\", \"age\": 20}  # True\n"
      ],
      "metadata": {
        "colab": {
          "base_uri": "https://localhost:8080/"
        },
        "id": "0-eUdi2luLdF",
        "outputId": "c1b27bee-9120-4664-efcb-744babd1b543"
      },
      "execution_count": 6,
      "outputs": [
        {
          "output_type": "execute_result",
          "data": {
            "text/plain": [
              "True"
            ]
          },
          "metadata": {},
          "execution_count": 6
        }
      ]
    },
    {
      "cell_type": "markdown",
      "source": [
        "15.Can you modify the elements of a tuple? Explain why or why not?\n",
        "\n",
        "-No, you can’t. Tuples are immutable, which means once they’re made, they stay the same. You can’t add, remove, or change any values in them.\n",
        "\n"
      ],
      "metadata": {
        "id": "yi11sFnMuUi1"
      }
    },
    {
      "cell_type": "markdown",
      "source": [
        "16. What is a nested dictionary, and give an example of its use case?\n",
        "\n",
        "-A nested dictionary is a dictionary inside another dictionary. It’s useful for storing complex data, like info about students:"
      ],
      "metadata": {
        "id": "dSNPDpw1uc2o"
      }
    },
    {
      "cell_type": "code",
      "source": [
        "students = {\n",
        "  \"John\": {\"age\": 20, \"grade\": \"A\"},\n",
        "  \"Sara\": {\"age\": 22, \"grade\": \"B\"}\n",
        "}\n"
      ],
      "metadata": {
        "id": "09SFBJaruiC5"
      },
      "execution_count": 7,
      "outputs": []
    },
    {
      "cell_type": "markdown",
      "source": [
        "17.Describe the time complexity of accessing elements in a dictionary?\n",
        "\n",
        "-Accessing items in a dictionary is usually O(1) — which means it’s very fast and doesn’t depend on how many items are in it."
      ],
      "metadata": {
        "id": "J60bin_-ulVH"
      }
    },
    {
      "cell_type": "markdown",
      "source": [
        "18. In what situations are lists preferred over dictionaries?\n",
        "\n",
        "-When you just need a simple, ordered collection of items and don’t need labels or keys — like storing numbers, names, or tasks — lists are better and easier.\n",
        "\n"
      ],
      "metadata": {
        "id": "WjNzuGgyutAR"
      }
    },
    {
      "cell_type": "markdown",
      "source": [
        "19. Why are dictionaries considered unordered, and how does that affect data retrieval?\n",
        "\n",
        "-Before Python 3.7, dictionaries didn’t keep the order of items. Now they mostly do, but they’re still considered “unordered” because the main focus is on keys, not the order. This means you shouldn’t rely on the order things were added."
      ],
      "metadata": {
        "id": "vScs1b1EuylD"
      }
    },
    {
      "cell_type": "markdown",
      "source": [
        "20.Explain the difference between a list and a dictionary in terms of data retrieval?\n",
        "\n",
        "-List: You get items by their position (index), like list[0]\n",
        "\n",
        "-Dictionary: You get items by their key, like dict[\"name\"].\n",
        "\n",
        "Dictionaries are faster for finding things if you know the key."
      ],
      "metadata": {
        "id": "OCztDrYfu8gE"
      }
    },
    {
      "cell_type": "markdown",
      "source": [
        "---\n",
        "\n",
        "                                                         ***Practical Answers***\n",
        "\n",
        "---"
      ],
      "metadata": {
        "id": "1xUsJOiMvJgm"
      }
    },
    {
      "cell_type": "markdown",
      "source": [
        "1.Write a code to create a string with your name and print it?\n",
        "\n",
        "-We can just store our name inside quotes and then print it. For example, if my name is Rahul:"
      ],
      "metadata": {
        "id": "ki7kQ1L0vh6J"
      }
    },
    {
      "cell_type": "code",
      "source": [
        "name = \"Rahul\"\n",
        "print(name)\n"
      ],
      "metadata": {
        "id": "8rPlmwKcvxqt"
      },
      "execution_count": null,
      "outputs": []
    },
    {
      "cell_type": "markdown",
      "source": [
        "This will simply show “Rahul” on the screen."
      ],
      "metadata": {
        "id": "cdr6d30jvz5t"
      }
    },
    {
      "cell_type": "markdown",
      "source": [
        "2.Write a code to find the length of the string \"Hello World\".\n",
        "\n",
        "-We use the len() function to count how many characters are in a string, including spaces."
      ],
      "metadata": {
        "id": "Nnw7lJRfv2nP"
      }
    },
    {
      "cell_type": "code",
      "source": [
        "text = \"Hello World\"\n",
        "print(len(text))\n"
      ],
      "metadata": {
        "id": "Zj3FCvPywMC_"
      },
      "execution_count": null,
      "outputs": []
    },
    {
      "cell_type": "markdown",
      "source": [
        "This will print 11, because there are 11 characters (including the space between the words)."
      ],
      "metadata": {
        "id": "8qbiaCM2wM1x"
      }
    },
    {
      "cell_type": "markdown",
      "source": [
        "3.Write a code to slice the first 3 characters from the string \"Python Programming\".\n",
        "\n",
        "-Slicing means cutting out a part of the string. To get the first 3 letters:"
      ],
      "metadata": {
        "id": "tz_VZDmxwQI5"
      }
    },
    {
      "cell_type": "code",
      "source": [
        "text = \"Python Programming\"\n",
        "print(text[:3])\n"
      ],
      "metadata": {
        "colab": {
          "base_uri": "https://localhost:8080/"
        },
        "id": "mtSb6VHowUvb",
        "outputId": "0e9d4fb9-2453-47ab-e642-4c3e502c53c8"
      },
      "execution_count": 8,
      "outputs": [
        {
          "output_type": "stream",
          "name": "stdout",
          "text": [
            "Pyt\n"
          ]
        }
      ]
    },
    {
      "cell_type": "markdown",
      "source": [
        "4.Write a code to convert the string \"hello\" to uppercase.\n",
        "\n",
        "-We can use the .upper() function which changes all letters to capital."
      ],
      "metadata": {
        "id": "eyh21VAXwa3p"
      }
    },
    {
      "cell_type": "code",
      "source": [
        "text = \"hello\"\n",
        "print(text.upper())\n"
      ],
      "metadata": {
        "colab": {
          "base_uri": "https://localhost:8080/"
        },
        "id": "GxPVO3d2wkqb",
        "outputId": "db590d17-4098-4238-999c-3a34f10af4d4"
      },
      "execution_count": 9,
      "outputs": [
        {
          "output_type": "stream",
          "name": "stdout",
          "text": [
            "HELLO\n"
          ]
        }
      ]
    },
    {
      "cell_type": "markdown",
      "source": [
        "5.Write a code to replace the word \"apple\" with \"orange\" in the string \"I like apple\".\n",
        "\n",
        "-We use the .replace() function:"
      ],
      "metadata": {
        "id": "Kbjgj1Iqwm18"
      }
    },
    {
      "cell_type": "code",
      "source": [
        "text = \"I like apple\"\n",
        "new_text = text.replace(\"apple\", \"orange\")\n",
        "print(new_text)\n"
      ],
      "metadata": {
        "colab": {
          "base_uri": "https://localhost:8080/"
        },
        "id": "li6x9CjJwrU9",
        "outputId": "349e9b68-59a6-4cdc-bf8a-713c7cf6b410"
      },
      "execution_count": 10,
      "outputs": [
        {
          "output_type": "stream",
          "name": "stdout",
          "text": [
            "I like orange\n"
          ]
        }
      ]
    },
    {
      "cell_type": "markdown",
      "source": [
        "6.Write a code to create a list with numbers 1 to 5 and print it.\n",
        "\n"
      ],
      "metadata": {
        "id": "o8WZOGMJwwa1"
      }
    },
    {
      "cell_type": "code",
      "source": [
        "numbers = [1, 2, 3, 4, 5]\n",
        "print(numbers)\n"
      ],
      "metadata": {
        "colab": {
          "base_uri": "https://localhost:8080/"
        },
        "id": "hUpf2O0mw5l4",
        "outputId": "9236481d-1ba9-4d22-f141-8c26a674722a"
      },
      "execution_count": 11,
      "outputs": [
        {
          "output_type": "stream",
          "name": "stdout",
          "text": [
            "[1, 2, 3, 4, 5]\n"
          ]
        }
      ]
    },
    {
      "cell_type": "markdown",
      "source": [
        "7.Write a code to append the number 10 to the list [1, 2, 3, 4]."
      ],
      "metadata": {
        "id": "q8kzBc-Rw-Qg"
      }
    },
    {
      "cell_type": "code",
      "source": [
        "numbers = [1, 2, 3, 4]\n",
        "numbers.append(10)\n",
        "print(numbers)\n"
      ],
      "metadata": {
        "colab": {
          "base_uri": "https://localhost:8080/"
        },
        "id": "5MyzpCEHxCPT",
        "outputId": "753ab6b0-7e1e-479f-f642-f37e97b42701"
      },
      "execution_count": 12,
      "outputs": [
        {
          "output_type": "stream",
          "name": "stdout",
          "text": [
            "[1, 2, 3, 4, 10]\n"
          ]
        }
      ]
    },
    {
      "cell_type": "markdown",
      "source": [
        "8. Write a code to remove the number 3 from the list [1, 2, 3, 4, 5]."
      ],
      "metadata": {
        "id": "NGOT5EeMxPoC"
      }
    },
    {
      "cell_type": "code",
      "source": [
        "numbers = [1, 2, 3, 4, 5]\n",
        "numbers.remove(3)\n",
        "print(numbers)\n"
      ],
      "metadata": {
        "colab": {
          "base_uri": "https://localhost:8080/"
        },
        "id": "RLU4_p8VxQaj",
        "outputId": "93110a2d-89e9-4a27-df23-9089b77a53db"
      },
      "execution_count": 13,
      "outputs": [
        {
          "output_type": "stream",
          "name": "stdout",
          "text": [
            "[1, 2, 4, 5]\n"
          ]
        }
      ]
    },
    {
      "cell_type": "markdown",
      "source": [
        "9.Write a code to access the second element in the list ['a', 'b', 'c', 'd']."
      ],
      "metadata": {
        "id": "D-EAWWcIxUcD"
      }
    },
    {
      "cell_type": "code",
      "source": [
        "letters = ['a', 'b', 'c', 'd']\n",
        "print(letters[1])\n"
      ],
      "metadata": {
        "colab": {
          "base_uri": "https://localhost:8080/"
        },
        "id": "72xJlbgExYTc",
        "outputId": "fedadf0f-adc6-48d5-a225-5b36cb09bb41"
      },
      "execution_count": 14,
      "outputs": [
        {
          "output_type": "stream",
          "name": "stdout",
          "text": [
            "b\n"
          ]
        }
      ]
    },
    {
      "cell_type": "markdown",
      "source": [
        "10.Write a code to reverse the list [10, 20, 30, 40, 50]."
      ],
      "metadata": {
        "id": "MVv2U78-xdKF"
      }
    },
    {
      "cell_type": "code",
      "source": [
        "numbers = [10, 20, 30, 40, 50]\n",
        "numbers.reverse()\n",
        "print(numbers)\n"
      ],
      "metadata": {
        "colab": {
          "base_uri": "https://localhost:8080/"
        },
        "id": "iT9wy1AHxisf",
        "outputId": "708ddc3b-d195-4e91-add4-01a10ee7fc56"
      },
      "execution_count": 15,
      "outputs": [
        {
          "output_type": "stream",
          "name": "stdout",
          "text": [
            "[50, 40, 30, 20, 10]\n"
          ]
        }
      ]
    },
    {
      "cell_type": "markdown",
      "source": [
        "11. Create a tuple with the elements 100, 200, 300 and print it."
      ],
      "metadata": {
        "id": "bxEQ3Ga8xoF2"
      }
    },
    {
      "cell_type": "code",
      "source": [
        "my_tuple = (100, 200, 300)\n",
        "print(my_tuple)\n"
      ],
      "metadata": {
        "colab": {
          "base_uri": "https://localhost:8080/"
        },
        "id": "z9xDSCyZxotv",
        "outputId": "dedd7eb4-f690-4d3a-c7e4-b32d5286cb14"
      },
      "execution_count": 16,
      "outputs": [
        {
          "output_type": "stream",
          "name": "stdout",
          "text": [
            "(100, 200, 300)\n"
          ]
        }
      ]
    },
    {
      "cell_type": "markdown",
      "source": [
        "12.Access the second-to-last element of the tuple ('red', 'green', 'blue', 'yellow')."
      ],
      "metadata": {
        "id": "AG3fNb4ExvWR"
      }
    },
    {
      "cell_type": "code",
      "source": [
        "colors = ('red', 'green', 'blue', 'yellow')\n",
        "print(colors[-2])\n"
      ],
      "metadata": {
        "colab": {
          "base_uri": "https://localhost:8080/"
        },
        "id": "6ZUG2a8exxJQ",
        "outputId": "110449fc-7ae4-4aad-b32e-9165636409f2"
      },
      "execution_count": 17,
      "outputs": [
        {
          "output_type": "stream",
          "name": "stdout",
          "text": [
            "blue\n"
          ]
        }
      ]
    },
    {
      "cell_type": "markdown",
      "source": [
        "13.Find the minimum number in the tuple (10, 20, 5, 15)."
      ],
      "metadata": {
        "id": "_SkrScJlx3fY"
      }
    },
    {
      "cell_type": "code",
      "source": [
        "nums = (10, 20, 5, 15)\n",
        "print(min(nums))\n"
      ],
      "metadata": {
        "colab": {
          "base_uri": "https://localhost:8080/"
        },
        "id": "FdR80gzKx45i",
        "outputId": "c624d4a8-2117-4f9a-e799-53911a884b6c"
      },
      "execution_count": 18,
      "outputs": [
        {
          "output_type": "stream",
          "name": "stdout",
          "text": [
            "5\n"
          ]
        }
      ]
    },
    {
      "cell_type": "markdown",
      "source": [
        "14.Find the index of the element \"cat\" in the tuple ('dog', 'cat', 'rabbit')."
      ],
      "metadata": {
        "id": "Srd5Yh6VyAmf"
      }
    },
    {
      "cell_type": "code",
      "source": [
        "animals = ('dog', 'cat', 'rabbit')\n",
        "print(animals.index(\"cat\"))\n"
      ],
      "metadata": {
        "colab": {
          "base_uri": "https://localhost:8080/"
        },
        "id": "e_nuNbo4yB_0",
        "outputId": "ae1c2c2a-6f25-46cb-c6b3-40b5282a7a0f"
      },
      "execution_count": 19,
      "outputs": [
        {
          "output_type": "stream",
          "name": "stdout",
          "text": [
            "1\n"
          ]
        }
      ]
    },
    {
      "cell_type": "markdown",
      "source": [
        "15.Create a tuple with three different fruits and check if \"kiwi\" is in it."
      ],
      "metadata": {
        "id": "6j0Y9AZxyKE3"
      }
    },
    {
      "cell_type": "code",
      "source": [
        "fruits = (\"apple\", \"banana\", \"orange\")\n",
        "print(\"kiwi\" in fruits)\n"
      ],
      "metadata": {
        "colab": {
          "base_uri": "https://localhost:8080/"
        },
        "id": "Sjwo0lwmyLaU",
        "outputId": "663a0b1e-32e4-43e6-b419-f6a3e28b2435"
      },
      "execution_count": 20,
      "outputs": [
        {
          "output_type": "stream",
          "name": "stdout",
          "text": [
            "False\n"
          ]
        }
      ]
    },
    {
      "cell_type": "markdown",
      "source": [
        "16.Create a set with the elements 'a', 'b', 'c' and print it."
      ],
      "metadata": {
        "id": "nYmd9vfDyUD1"
      }
    },
    {
      "cell_type": "code",
      "source": [
        "my_set = {'a', 'b', 'c'}\n",
        "print(my_set)\n"
      ],
      "metadata": {
        "colab": {
          "base_uri": "https://localhost:8080/"
        },
        "id": "QJI7iGLKyVde",
        "outputId": "81598759-08ac-4bc9-e5b0-8a301aeaf242"
      },
      "execution_count": 21,
      "outputs": [
        {
          "output_type": "stream",
          "name": "stdout",
          "text": [
            "{'b', 'c', 'a'}\n"
          ]
        }
      ]
    },
    {
      "cell_type": "markdown",
      "source": [
        "17.Clear all elements from the set {1, 2, 3, 4, 5}."
      ],
      "metadata": {
        "id": "19f81G0RyhPJ"
      }
    },
    {
      "cell_type": "code",
      "source": [
        "s = {1, 2, 3, 4, 5}\n",
        "s.clear()\n",
        "print(s)\n"
      ],
      "metadata": {
        "colab": {
          "base_uri": "https://localhost:8080/"
        },
        "id": "aviEW4I3yi7w",
        "outputId": "9a5f7937-74df-4803-e9cf-30f35b1b96c9"
      },
      "execution_count": 22,
      "outputs": [
        {
          "output_type": "stream",
          "name": "stdout",
          "text": [
            "set()\n"
          ]
        }
      ]
    },
    {
      "cell_type": "markdown",
      "source": [
        "18.Remove the element 4 from the set {1, 2, 3, 4}."
      ],
      "metadata": {
        "id": "7cEvBLY9yqIb"
      }
    },
    {
      "cell_type": "code",
      "source": [
        "s = {1, 2, 3, 4}\n",
        "s.remove(4)\n",
        "print(s)\n"
      ],
      "metadata": {
        "colab": {
          "base_uri": "https://localhost:8080/"
        },
        "id": "vEewq0-yyrr5",
        "outputId": "143242b1-3851-49f3-c594-1b33b6e7ef29"
      },
      "execution_count": 23,
      "outputs": [
        {
          "output_type": "stream",
          "name": "stdout",
          "text": [
            "{1, 2, 3}\n"
          ]
        }
      ]
    },
    {
      "cell_type": "markdown",
      "source": [
        "19.Find the union of two sets {1, 2, 3} and {3, 4, 5}."
      ],
      "metadata": {
        "id": "upCpQ2Gayw5y"
      }
    },
    {
      "cell_type": "code",
      "source": [
        "a = {1, 2, 3}\n",
        "b = {3, 4, 5}\n",
        "print(a.union(b))\n"
      ],
      "metadata": {
        "colab": {
          "base_uri": "https://localhost:8080/"
        },
        "id": "aTCS8Qj2yxj7",
        "outputId": "97526485-0045-4b06-c04c-64245952a23c"
      },
      "execution_count": 24,
      "outputs": [
        {
          "output_type": "stream",
          "name": "stdout",
          "text": [
            "{1, 2, 3, 4, 5}\n"
          ]
        }
      ]
    },
    {
      "cell_type": "markdown",
      "source": [
        "20.Find the intersection of two sets {1, 2, 3} and {2, 3, 4}."
      ],
      "metadata": {
        "id": "CaH2SIMry1Mz"
      }
    },
    {
      "cell_type": "code",
      "source": [
        "a = {1, 2, 3}\n",
        "b = {2, 3, 4}\n",
        "print(a.intersection(b))\n"
      ],
      "metadata": {
        "colab": {
          "base_uri": "https://localhost:8080/"
        },
        "id": "Nl_63CVqy4Sb",
        "outputId": "b3cafa4f-e0d8-4661-e324-057d9be241eb"
      },
      "execution_count": 25,
      "outputs": [
        {
          "output_type": "stream",
          "name": "stdout",
          "text": [
            "{2, 3}\n"
          ]
        }
      ]
    },
    {
      "cell_type": "markdown",
      "source": [
        "21.Create a dictionary with the keys \"name\", \"age\", and \"city\", and print it."
      ],
      "metadata": {
        "id": "f6ZD96gey-nk"
      }
    },
    {
      "cell_type": "code",
      "source": [
        "person = {\"name\": \"John\", \"age\": 25, \"city\": \"Delhi\"}\n",
        "print(person)\n"
      ],
      "metadata": {
        "colab": {
          "base_uri": "https://localhost:8080/"
        },
        "id": "mkRbOS6IzB0N",
        "outputId": "c2d8dab0-5d1b-4fec-cc1a-3d106b315d8d"
      },
      "execution_count": 26,
      "outputs": [
        {
          "output_type": "stream",
          "name": "stdout",
          "text": [
            "{'name': 'John', 'age': 25, 'city': 'Delhi'}\n"
          ]
        }
      ]
    },
    {
      "cell_type": "markdown",
      "source": [
        "22.Add a new key-value pair \"country\": \"USA\" to the dictionary {'name': 'John', 'age': 25}."
      ],
      "metadata": {
        "id": "BPcTcgELzEvc"
      }
    },
    {
      "cell_type": "code",
      "source": [
        "person = {'name': 'John', 'age': 25}\n",
        "person['country'] = 'USA'\n",
        "print(person)\n"
      ],
      "metadata": {
        "colab": {
          "base_uri": "https://localhost:8080/"
        },
        "id": "HM3PDC6KzKRI",
        "outputId": "6362dc9e-f41d-45cf-ec7d-3b0c4d1da16f"
      },
      "execution_count": 27,
      "outputs": [
        {
          "output_type": "stream",
          "name": "stdout",
          "text": [
            "{'name': 'John', 'age': 25, 'country': 'USA'}\n"
          ]
        }
      ]
    },
    {
      "cell_type": "markdown",
      "source": [
        "23.Write a code to access the value associated with the key \"name\" in the dictionary {'name': 'Alice', 'age': 30}."
      ],
      "metadata": {
        "id": "D0KYjnVxzOFn"
      }
    },
    {
      "cell_type": "code",
      "source": [
        "data = {'name': 'Alice', 'age': 30}\n",
        "print(data['name'])\n"
      ],
      "metadata": {
        "colab": {
          "base_uri": "https://localhost:8080/"
        },
        "id": "EYsWRWPIzXFx",
        "outputId": "b49ba6de-e1c7-4b72-ab40-b495c82e1a9c"
      },
      "execution_count": 28,
      "outputs": [
        {
          "output_type": "stream",
          "name": "stdout",
          "text": [
            "Alice\n"
          ]
        }
      ]
    },
    {
      "cell_type": "markdown",
      "source": [
        "24.Write a code to remove the key \"age\" from the dictionary {'name': 'Bob', 'age': 22, 'city': 'New York'}."
      ],
      "metadata": {
        "id": "1xUAeSrazdt6"
      }
    },
    {
      "cell_type": "code",
      "source": [
        "info = {'name': 'Bob', 'age': 22, 'city': 'New York'}\n",
        "del info['age']\n",
        "print(info)\n"
      ],
      "metadata": {
        "colab": {
          "base_uri": "https://localhost:8080/"
        },
        "id": "VaHb_E-Nzi6M",
        "outputId": "0a1d5eed-dbe6-4296-a4df-6d9e6568337e"
      },
      "execution_count": 29,
      "outputs": [
        {
          "output_type": "stream",
          "name": "stdout",
          "text": [
            "{'name': 'Bob', 'city': 'New York'}\n"
          ]
        }
      ]
    },
    {
      "cell_type": "markdown",
      "source": [
        "25.Write a code to check if the key \"city\" exists in the dictionary {'name': 'Alice', 'city': 'Paris'}"
      ],
      "metadata": {
        "id": "Ub37kkzYzoVi"
      }
    },
    {
      "cell_type": "code",
      "source": [
        "data = {'name': 'Alice', 'city': 'Paris'}\n",
        "print(\"city\" in data)\n"
      ],
      "metadata": {
        "colab": {
          "base_uri": "https://localhost:8080/"
        },
        "id": "SFlxe6UCzsG1",
        "outputId": "272403f1-c413-4a54-c5b4-3327816377df"
      },
      "execution_count": 30,
      "outputs": [
        {
          "output_type": "stream",
          "name": "stdout",
          "text": [
            "True\n"
          ]
        }
      ]
    },
    {
      "cell_type": "markdown",
      "source": [
        "26.Write a code to create a list, a tuple, and a dictionary, and print them all."
      ],
      "metadata": {
        "id": "7eS7le4Fzw-9"
      }
    },
    {
      "cell_type": "code",
      "source": [
        "my_list = [1, 2, 3]\n",
        "my_tuple = (4, 5, 6)\n",
        "my_dict = {'a': 10, 'b': 20}\n",
        "\n",
        "print(my_list)\n",
        "print(my_tuple)\n",
        "print(my_dict)\n"
      ],
      "metadata": {
        "colab": {
          "base_uri": "https://localhost:8080/"
        },
        "id": "wA1jGpZQz3og",
        "outputId": "45bb9e91-bdfd-4064-9b52-299f7b48c3f1"
      },
      "execution_count": 31,
      "outputs": [
        {
          "output_type": "stream",
          "name": "stdout",
          "text": [
            "[1, 2, 3]\n",
            "(4, 5, 6)\n",
            "{'a': 10, 'b': 20}\n"
          ]
        }
      ]
    },
    {
      "cell_type": "markdown",
      "source": [
        "27.Write a code to create a list of 5 random numbers between 1 and 100, sort it in ascending order, and print the\n",
        "result.(replaced)"
      ],
      "metadata": {
        "id": "VG9R1vUOz542"
      }
    },
    {
      "cell_type": "code",
      "source": [
        "import random\n",
        "numbers = random.sample(range(1, 101), 5)\n",
        "numbers.sort()\n",
        "print(numbers)\n"
      ],
      "metadata": {
        "colab": {
          "base_uri": "https://localhost:8080/"
        },
        "id": "kR8ueXMWz8tH",
        "outputId": "1ca033cc-5124-4db1-835f-ed2c8c45160a"
      },
      "execution_count": 32,
      "outputs": [
        {
          "output_type": "stream",
          "name": "stdout",
          "text": [
            "[12, 47, 52, 65, 84]\n"
          ]
        }
      ]
    },
    {
      "cell_type": "markdown",
      "source": [
        "28.Write a code to create a list with strings and print the element at the third index."
      ],
      "metadata": {
        "id": "FHaMO3Nk0Dl-"
      }
    },
    {
      "cell_type": "code",
      "source": [
        "words = [\"apple\", \"banana\", \"cherry\", \"date\", \"fig\"]\n",
        "print(words[3])\n"
      ],
      "metadata": {
        "colab": {
          "base_uri": "https://localhost:8080/"
        },
        "id": "PPEzLIGa0Gly",
        "outputId": "4c2370b0-91f3-423a-9b50-2ffd2d9938c1"
      },
      "execution_count": 33,
      "outputs": [
        {
          "output_type": "stream",
          "name": "stdout",
          "text": [
            "date\n"
          ]
        }
      ]
    },
    {
      "cell_type": "markdown",
      "source": [
        "29.Write a code to combine two dictionaries into one and print the result."
      ],
      "metadata": {
        "id": "zOdgCzvY0M1Z"
      }
    },
    {
      "cell_type": "code",
      "source": [
        "a = {\"name\": \"Tom\"}\n",
        "b = {\"age\": 30}\n",
        "combined = {**a, **b}\n",
        "print(combined)\n"
      ],
      "metadata": {
        "colab": {
          "base_uri": "https://localhost:8080/"
        },
        "id": "5IuOMVfk0QQs",
        "outputId": "03b433b2-5ce4-4b02-cf80-ee56381fefc0"
      },
      "execution_count": 34,
      "outputs": [
        {
          "output_type": "stream",
          "name": "stdout",
          "text": [
            "{'name': 'Tom', 'age': 30}\n"
          ]
        }
      ]
    },
    {
      "cell_type": "markdown",
      "source": [
        "30.Write a code to convert a list of strings into a set."
      ],
      "metadata": {
        "id": "sbpI1MvJ0T_S"
      }
    },
    {
      "cell_type": "code",
      "source": [
        "words = [\"apple\", \"banana\", \"apple\", \"orange\"]\n",
        "word_set = set(words)\n",
        "print(word_set)\n"
      ],
      "metadata": {
        "colab": {
          "base_uri": "https://localhost:8080/"
        },
        "id": "3xv5dcbb0Yw0",
        "outputId": "4d4b3716-18ec-4225-f649-d13723f43fb2"
      },
      "execution_count": 35,
      "outputs": [
        {
          "output_type": "stream",
          "name": "stdout",
          "text": [
            "{'orange', 'banana', 'apple'}\n"
          ]
        }
      ]
    }
  ]
}